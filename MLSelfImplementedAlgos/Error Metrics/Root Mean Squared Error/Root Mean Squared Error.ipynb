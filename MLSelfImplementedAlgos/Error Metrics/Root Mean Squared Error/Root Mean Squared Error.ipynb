{
  "nbformat": 4,
  "nbformat_minor": 0,
  "metadata": {
    "colab": {
      "provenance": [],
      "collapsed_sections": []
    },
    "kernelspec": {
      "name": "python3",
      "display_name": "Python 3"
    },
    "language_info": {
      "name": "python"
    }
  },
  "cells": [
    {
      "cell_type": "code",
      "execution_count": null,
      "metadata": {
        "colab": {
          "base_uri": "https://localhost:8080/"
        },
        "id": "Uvsgr8sQd12g",
        "outputId": "461cad3e-f1b9-4e1b-f5f4-8b0eacb92914"
      },
      "outputs": [
        {
          "output_type": "stream",
          "name": "stdout",
          "text": [
            "X-shape:  (442, 10) Y-shape:  (442,)\n",
            "        age       sex       bmi        bp        s1        s2        s3  \\\n",
            "0  0.038076  0.050680  0.061696  0.021872 -0.044223 -0.034821 -0.043401   \n",
            "1 -0.001882 -0.044642 -0.051474 -0.026328 -0.008449 -0.019163  0.074412   \n",
            "2  0.085299  0.050680  0.044451 -0.005671 -0.045599 -0.034194 -0.032356   \n",
            "3 -0.089063 -0.044642 -0.011595 -0.036656  0.012191  0.024991 -0.036038   \n",
            "4  0.005383 -0.044642 -0.036385  0.021872  0.003935  0.015596  0.008142   \n",
            "\n",
            "         s4        s5        s6  \n",
            "0 -0.002592  0.019908 -0.017646  \n",
            "1 -0.039493 -0.068330 -0.092204  \n",
            "2 -0.002592  0.002864 -0.025930  \n",
            "3  0.034309  0.022692 -0.009362  \n",
            "4 -0.002592 -0.031991 -0.046641  \n",
            "0    151.0\n",
            "1     75.0\n",
            "2    141.0\n",
            "3    206.0\n",
            "4    135.0\n",
            "Name: target, dtype: float64\n"
          ]
        }
      ],
      "source": [
        "import pandas as pd\n",
        "import numpy as np\n",
        "from sklearn.model_selection import train_test_split\n",
        "from sklearn import datasets\n",
        "from sklearn.linear_model import LinearRegression\n",
        "lr= LinearRegression()\n",
        "X, y = datasets.load_diabetes(return_X_y=True,as_frame=True)\n",
        "print(\"X-shape: \",X.shape,\"Y-shape: \",y.shape)\n",
        "print(X.head())\n",
        "print(y.head())"
      ]
    },
    {
      "cell_type": "code",
      "source": [
        "#About the data"
      ],
      "metadata": {
        "id": "ODGG7Yxw5nLw"
      },
      "execution_count": null,
      "outputs": []
    },
    {
      "cell_type": "markdown",
      "source": [
        "The above dataset has 10 dimensions giving details on different aspects of diabetes with the output being numerical representation of the progress of the disease."
      ],
      "metadata": {
        "id": "whGXfcci5vpI"
      }
    },
    {
      "cell_type": "code",
      "source": [
        "X_train, X_test, y_train, y_test= train_test_split(X,y, test_size=0.2, random_state=42)\n",
        "lr.fit(X_train,y_train)\n",
        "y_pred= lr.predict(X_test)"
      ],
      "metadata": {
        "id": "fHPyY8Pq3dGl"
      },
      "execution_count": null,
      "outputs": []
    },
    {
      "cell_type": "markdown",
      "source": [
        "**Root Mean Squared Error**"
      ],
      "metadata": {
        "id": "PTKQ59QO3hzB"
      }
    },
    {
      "cell_type": "code",
      "source": [
        "RMSE=np.sqrt(np.square(np.subtract(y_test,y_pred)).mean())\n",
        "print(RMSE)"
      ],
      "metadata": {
        "colab": {
          "base_uri": "https://localhost:8080/"
        },
        "id": "cL09sEN93lqv",
        "outputId": "cdc9e846-d327-4119-f0f4-e0406a7d31d1"
      },
      "execution_count": null,
      "outputs": [
        {
          "output_type": "stream",
          "name": "stdout",
          "text": [
            "42.79389304196525\n",
            "53.853256984914395\n"
          ]
        }
      ]
    },
    {
      "cell_type": "code",
      "source": [
        "#Lets check this out with sklearn inbuilt module\n",
        "from sklearn.metrics import mean_absolute_error,mean_squared_error\n",
        "print(mean_squared_error(y_test,y_pred,squared=False))\n"
      ],
      "metadata": {
        "colab": {
          "base_uri": "https://localhost:8080/"
        },
        "id": "Q60ANYm13zKt",
        "outputId": "32177f76-f79f-443f-aea7-bd875ca2a60f"
      },
      "execution_count": null,
      "outputs": [
        {
          "output_type": "stream",
          "name": "stdout",
          "text": [
            "42.79389304196525\n",
            "53.853256984914395\n"
          ]
        }
      ]
    }
  ]
}