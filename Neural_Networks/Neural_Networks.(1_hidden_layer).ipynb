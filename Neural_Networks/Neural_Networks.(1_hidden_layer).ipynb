{
 "cells": [
  {
   "cell_type": "markdown",
   "metadata": {},
   "source": [
    "# Neural Network\n",
    "Implementing OR Gate using neural networks with one hidden layer."
   ]
  },
  {
   "cell_type": "code",
   "execution_count": null,
   "metadata": {},
   "outputs": [],
   "source": [
    "# Our Neural model Graph\n",
    "# Bias   Bias\n",
    "#        \n",
    "# x1     Perceptron1    \n",
    "#                         Output\n",
    "# x2     Perceptron3"
   ]
  },
  {
   "cell_type": "code",
   "execution_count": 1,
   "metadata": {},
   "outputs": [],
   "source": [
    "import numpy as np"
   ]
  },
  {
   "cell_type": "code",
   "execution_count": 2,
   "metadata": {},
   "outputs": [],
   "source": [
    "# Initializing the input and output of OR Gate\n",
    "\n",
    "x=np.array([[0,0],[1,0],[0,1],[1,1]])\n",
    "y=np.array([[0,1,1,1]]).T"
   ]
  },
  {
   "cell_type": "code",
   "execution_count": 3,
   "metadata": {},
   "outputs": [],
   "source": [
    "# Defining Activation Function\n",
    "\n",
    "def sigmoid(z):\n",
    "    return 1/(1+np.exp(-z))"
   ]
  },
  {
   "cell_type": "code",
   "execution_count": 4,
   "metadata": {},
   "outputs": [],
   "source": [
    "# Derivative of Activation Function\n",
    "\n",
    "def derivative_sigmoid(z):\n",
    "    return sigmoid(z)*(1-sigmoid(z))"
   ]
  },
  {
   "cell_type": "code",
   "execution_count": 6,
   "metadata": {},
   "outputs": [],
   "source": [
    "def fit(x,y,lr,itr):\n",
    "    \n",
    "    # Initializing weights with random values\n",
    "    # wh-weights of hidden layer, wo-weights of output layer, bh-bias of hidden layer, bo-bias of output layer\n",
    "    \n",
    "    wh=(2*np.random.random((2,2)))-1\n",
    "    bh=(2*np.random.random((1,2)))-1\n",
    "    wo=(2*np.random.random((2,1)))-1\n",
    "    bo=(2*np.random.random((1,1)))-1\n",
    "    for i in range(itr):    \n",
    "\n",
    "        #Forward Propagation    \n",
    "\n",
    "        output0=x  # output from the first layer, which are the actual inputs\n",
    "        inputhidden=np.dot(output0,wh)+bh # input comming to the hidden layer \n",
    "        outputhidden=sigmoid(inputhidden) #output from the hidden layer\n",
    "        input_for_outputlayer=np.dot(outputhidden,wo)+bo\n",
    "        output=sigmoid(input_for_outputlayer)  # Y-predicted\n",
    "\n",
    "        #Back Propagation\n",
    "\n",
    "        first_term_output_layer=output-y  # y_predicted-y_actual\n",
    "        second_term_output_layer=derivative_sigmoid(input_for_outputlayer) # derivative  of activation function\n",
    "        first_two_output_layer=first_term_output_layer*second_term_output_layer\n",
    "\n",
    "        first_term_hidden_layer=first_two_output_layer.dot(wo.T) #Read Documentaion\n",
    "        second_term_hidden_layer=derivative_sigmoid(inputhidden)\n",
    "        first_two_hidden_layer=first_term_hidden_layer*second_term_hidden_layer\n",
    "\n",
    "        changes_output=outputhidden.T.dot(first_two_output_layer)\n",
    "        changes_output_bias=np.sum(first_two_output_layer,axis=0,keepdims=True)\n",
    "\n",
    "        changes_hidden=output0.T.dot(first_two_hidden_layer)\n",
    "        changes_hidden_bias=np.sum(first_two_hidden_layer,axis=0,keepdims=True)\n",
    "\n",
    "        # Optimizing weights and biases\n",
    "        wo=wo-lr*changes_output\n",
    "        bo=bo-lr*changes_output_bias\n",
    "        wh=wh-lr*changes_hidden\n",
    "        bh=bh-lr*changes_hidden_bias\n",
    "    return wo,bo,wh,bh"
   ]
  },
  {
   "cell_type": "code",
   "execution_count": 20,
   "metadata": {},
   "outputs": [],
   "source": [
    "def predict(x,wo,bo,wh,bh):\n",
    "    output0=x  \n",
    "    inputhidden=np.dot(output0,wh)+bh \n",
    "    outputhidden=sigmoid(inputhidden) \n",
    "    input_for_outputlayer=np.dot(outputhidden,wo)+bo\n",
    "    output=sigmoid(input_for_outputlayer) \n",
    "    for i in range(len(output)):\n",
    "        if output[i]>.6 :\n",
    "            output[i]=1\n",
    "        else:\n",
    "            output[i]=0\n",
    "    return output"
   ]
  },
  {
   "cell_type": "code",
   "execution_count": 18,
   "metadata": {},
   "outputs": [],
   "source": [
    "wo,bo,wh,bh=fit(x,y,0.01,10000)"
   ]
  },
  {
   "cell_type": "code",
   "execution_count": 21,
   "metadata": {},
   "outputs": [
    {
     "data": {
      "text/plain": [
       "array([[0.],\n",
       "       [1.],\n",
       "       [1.],\n",
       "       [1.]])"
      ]
     },
     "execution_count": 21,
     "metadata": {},
     "output_type": "execute_result"
    }
   ],
   "source": [
    "y_pred=predict(x,wo,bo,wh,bh)\n",
    "y_pred "
   ]
  }
 ],
 "metadata": {
  "kernelspec": {
   "display_name": "Python 3.9.12 ('base')",
   "language": "python",
   "name": "python3"
  },
  "language_info": {
   "codemirror_mode": {
    "name": "ipython",
    "version": 3
   },
   "file_extension": ".py",
   "mimetype": "text/x-python",
   "name": "python",
   "nbconvert_exporter": "python",
   "pygments_lexer": "ipython3",
   "version": "3.9.12"
  },
  "orig_nbformat": 4,
  "vscode": {
   "interpreter": {
    "hash": "c19b36fe549fe2dce1ac32d0dd317d0a363043eb1c14a547f46436cb05190cdf"
   }
  }
 },
 "nbformat": 4,
 "nbformat_minor": 2
}
