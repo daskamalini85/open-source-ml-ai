{
 "cells": [
  {
   "cell_type": "markdown",
   "metadata": {},
   "source": [
    "# Neural Networks\n",
    "Implementing XOR using Neural Networks containing two hidden layers"
   ]
  },
  {
   "cell_type": "code",
   "execution_count": 8,
   "metadata": {},
   "outputs": [],
   "source": [
    "# Our Neural model Graph\n",
    "\n",
    "# Bias   Bias             Bias\n",
    "#        \n",
    "# x1     Perceptron11     Perceptron21 \n",
    "#                                        Output\n",
    "# x2     Perceptron12     Perceptron22"
   ]
  },
  {
   "cell_type": "code",
   "execution_count": 9,
   "metadata": {},
   "outputs": [],
   "source": [
    "import numpy as np"
   ]
  },
  {
   "cell_type": "code",
   "execution_count": 10,
   "metadata": {},
   "outputs": [],
   "source": [
    "# Initializing the inputs and output of XOR Gate\n",
    "\n",
    "x=np.array([[0,0],[0,1],[1,0],[1,1]])\n",
    "y=np.array([[0],[1],[1],[0]])"
   ]
  },
  {
   "cell_type": "code",
   "execution_count": 11,
   "metadata": {},
   "outputs": [],
   "source": [
    "# Activation Function\n",
    "\n",
    "def sigmoid(z):\n",
    "    return 1/(1+np.exp(-z))"
   ]
  },
  {
   "cell_type": "code",
   "execution_count": 12,
   "metadata": {},
   "outputs": [],
   "source": [
    "# Derivative of Activation Function\n",
    "\n",
    "def derivative_sigmoid(z):\n",
    "    return sigmoid(z)*(1-sigmoid(z))"
   ]
  },
  {
   "cell_type": "code",
   "execution_count": 13,
   "metadata": {},
   "outputs": [],
   "source": [
    "def fit(x,y,lr,itr):\n",
    "\n",
    "    # initializing weights and bias with random values for all hidden layers and one output layer\n",
    "    wo=np.random.random(size=(2,1))\n",
    "    bo=np.random.uniform(size=(1,1))\n",
    "    wh=np.random.random(size=(2,2))\n",
    "    bh=np.random.random(size=(1,2))\n",
    "\n",
    "    for _ in range(itr):\n",
    "        # Forward Propagation\n",
    "        output0=x\n",
    "        input_hidden_layer=np.dot(output0,wh)+bh\n",
    "        output_hidden_layer=sigmoid(input_hidden_layer)\n",
    "\n",
    "        input_output_layer=np.dot(output_hidden_layer,wo)+bo\n",
    "        output=sigmoid(input_output_layer)\n",
    "\n",
    "        #Back Propagation\n",
    "        first_term_output_layer=output-y\n",
    "        second_term_output_layer=derivative_sigmoid(input_output_layer)\n",
    "        first_two_output_layer=first_term_output_layer*second_term_output_layer\n",
    "\n",
    "        first_term_hidden_layer=first_two_output_layer.dot(wo.T) #np.dot(first_term_output_layer,wo.T) # \n",
    "        second_term_hidden_layer=derivative_sigmoid(input_hidden_layer)\n",
    "        first_two_hidden_layer=first_term_hidden_layer*second_term_hidden_layer\n",
    "\n",
    "        #Updating Weights\n",
    "        w_changes_output_layer=output_hidden_layer.T.dot(first_two_output_layer)#np.dot(output_hidden_layer.T,first_two_output_layer)#\n",
    "        b_changes_output_layer=np.sum(first_two_output_layer,axis=0,keepdims=True)\n",
    "\n",
    "        w_changes_hidden_layer=output0.T.dot(first_two_hidden_layer) #np.dot(output0.T,first_term_hidden_layer)#\n",
    "        b_changes_hidden_layer=np.sum(first_two_hidden_layer,axis=0,keepdims=True)\n",
    "\n",
    "        wo=wo-lr*w_changes_output_layer\n",
    "        bo=bo-lr*b_changes_output_layer\n",
    "\n",
    "        wh=wh-lr*w_changes_hidden_layer\n",
    "        bh=bh-lr*b_changes_hidden_layer\n",
    "    return wo,bo,wh,bh "
   ]
  },
  {
   "cell_type": "code",
   "execution_count": 21,
   "metadata": {},
   "outputs": [],
   "source": [
    "def predict(x,wo,bo,wh,bh):\n",
    "    output0=x\n",
    "    input_hidden_layer=np.dot(output0,wh)+bh\n",
    "    output_hidden_layer=sigmoid(input_hidden_layer)\n",
    "\n",
    "    input_output_layer=np.dot(output_hidden_layer,wo)+bo\n",
    "    output=sigmoid(input_output_layer)\n",
    "    for i in range(len(output)):\n",
    "        if output[i]>.65 :\n",
    "            output[i]=1\n",
    "        else:\n",
    "            output[i]=0\n",
    "    return output"
   ]
  },
  {
   "cell_type": "code",
   "execution_count": 19,
   "metadata": {},
   "outputs": [],
   "source": [
    "wo,bo,wh,bh=fit(x,y,0.1,10000)"
   ]
  },
  {
   "cell_type": "code",
   "execution_count": 22,
   "metadata": {},
   "outputs": [
    {
     "data": {
      "text/plain": [
       "array([[0.],\n",
       "       [1.],\n",
       "       [1.],\n",
       "       [0.]])"
      ]
     },
     "execution_count": 22,
     "metadata": {},
     "output_type": "execute_result"
    }
   ],
   "source": [
    "y_pred=predict(x,wo,bo,wh,bh)\n",
    "y_pred"
   ]
  }
 ],
 "metadata": {
  "kernelspec": {
   "display_name": "Python 3.9.12 ('base')",
   "language": "python",
   "name": "python3"
  },
  "language_info": {
   "codemirror_mode": {
    "name": "ipython",
    "version": 3
   },
   "file_extension": ".py",
   "mimetype": "text/x-python",
   "name": "python",
   "nbconvert_exporter": "python",
   "pygments_lexer": "ipython3",
   "version": "3.9.12"
  },
  "orig_nbformat": 4,
  "vscode": {
   "interpreter": {
    "hash": "c19b36fe549fe2dce1ac32d0dd317d0a363043eb1c14a547f46436cb05190cdf"
   }
  }
 },
 "nbformat": 4,
 "nbformat_minor": 2
}
